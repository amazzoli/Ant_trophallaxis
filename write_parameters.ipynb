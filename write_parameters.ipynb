{
 "cells": [
  {
   "cell_type": "code",
   "execution_count": 1,
   "metadata": {},
   "outputs": [
    {
     "name": "stdout",
     "output_type": "stream",
     "text": [
      "0.975 0.9975 0.9995\n",
      "NOCONSUME_6p_gamma_eq0.9995_pFilling0.8_giverR-0.5_ZEROEXCH_RANDOM\n",
      "data/ant_cons_exchanges/NOCONSUME_6p_gamma_eq0.9995_pFilling0.8_giverR-0.5_ZEROEXCH_RANDOM/\n"
     ]
    }
   ],
   "source": [
    "import numpy as np\n",
    "import matplotlib as mpl\n",
    "import matplotlib.pyplot as plt\n",
    "import utils as ut\n",
    "\n",
    "momo = [0.9, 0.95, 0.99, 0.995, 0.999, 0.9995, 0.9999, 0.999999]\n",
    "momo = [0.975, 0.9975 , 0.9995]\n",
    "nrec=5\n",
    "\n",
    "print(*momo)\n",
    "gamma = 1\n",
    "\n",
    "Igamma = 2\n",
    "\n",
    "true_gamma = 1 - ( 1 - momo[Igamma]) / nrec\n",
    "p_filling = 0.8\n",
    "giver_reward = -0.5\n",
    "consume=0.0\n",
    "# Model of the ant colony\n",
    "system_name = 'ant_cons_exchanges'\n",
    "# Name of the specific run with the current parmeters\n",
    "run_name = 'NOCONSUME_'+str(nrec+1)+'p_gamma_eq'+str(momo[Igamma])+'_pFilling'+str(p_filling)+'_giverR'+str(giver_reward)+'_ZEROEXCH_RANDOM'\n",
    "print(run_name)\n",
    "data_dir = 'data/' + system_name + '/' + run_name + '/'\n",
    "print(data_dir)"
   ]
  },
  {
   "cell_type": "markdown",
   "metadata": {},
   "source": [
    "## Environment"
   ]
  },
  {
   "cell_type": "markdown",
   "metadata": {},
   "source": [
    "### General parameters"
   ]
  },
  {
   "cell_type": "code",
   "execution_count": 2,
   "metadata": {},
   "outputs": [],
   "source": [
    "env_params = dict()\n",
    "\n",
    "# Size of the belly of each ant\n",
    "env_params['max_k'] = 19\n",
    "# Number of recipient in the colony\n",
    "env_params['n_recipients'] = nrec\n",
    "# Probability of a succesfull gathering\n",
    "env_params['p_succ'] = 0.1\n",
    "\n",
    "if system_name in ['ant_cons', 'ant_cons2', 'ant_cons2_fast', 'ant_cons2_death', 'ant_cons2_stress', 'ant_cons_exchanges', 'ant_cons_exchanges_choice'] :\n",
    "    # Probability that the food of a recipient decreases\n",
    "    env_params['p_consume'] = consume\n",
    "if system_name in ['ant_cons2', 'ant_cons_exchanges','ant_cons_exchanges_choice']:\n",
    "    # Probability that the food of a recipient decreases\n",
    "    env_params['p_filling'] = p_filling\n",
    "    env_params['unif_filling'] = 'false'\n",
    "\n",
    "if system_name ==  'ant_cons_exchanges' or system_name ==  'ant_cons_exchanges_choice' :\n",
    "    env_params['true_gamma'] = true_gamma\n",
    "    env_params['stop_by_discount'] = 'false'\n",
    "    env_params['giver_reward'] = giver_reward\n",
    "    env_params['only_forager'] = 'true'\n",
    "    \n",
    "if system_name == 'ant_cons2_death':\n",
    "    # Penalty for death\n",
    "    env_params['pen_death'] = 1\n",
    "    env_params['rew_eat'] = 1\n",
    "    env_params['true_gamma'] = 0.99333\n",
    "    env_params['reward_life'] = 'false'\n",
    "if system_name == 'ant_cons2_stress':\n",
    "    # Penalty for stress\n",
    "    env_params['pen_stress'] = 0.1\n",
    "    env_params['reward_life'] = 'false'\n",
    "    env_params['rew_eat'] = 1"
   ]
  },
  {
   "cell_type": "markdown",
   "metadata": {},
   "source": [
    "### Initial condition"
   ]
  },
  {
   "cell_type": "code",
   "execution_count": 3,
   "metadata": {},
   "outputs": [],
   "source": [
    "# Number between 1-max_k for a deterministic initialization of the ant food\n",
    "# Number greater than max_k for a random initialization\n",
    "#env_params['init_k'] = [env_params['max_k'] for _ in range(env_params['n_recipients']+1)]\n",
    "env_params['init_k'] = [env_params['max_k']+1 for _ in range(env_params['n_recipients']+1)]\n",
    "env_params['init_k'][0] = env_params['max_k']+1\n",
    "#env_params['init_k'] = [3 for _ in range(env_params['n_recipients']+1)]"
   ]
  },
  {
   "cell_type": "markdown",
   "metadata": {},
   "source": [
    "## Algorithm"
   ]
  },
  {
   "cell_type": "markdown",
   "metadata": {},
   "source": [
    "### Algorithm type"
   ]
  },
  {
   "cell_type": "code",
   "execution_count": 4,
   "metadata": {},
   "outputs": [],
   "source": [
    "alg_params = dict()\n",
    "alg_params['alg_type'] = 'nac_et'\n",
    "alg_params['gamma'] = gamma\n",
    "alg_params['stop_by_discount'] = 'false'\n",
    "alg_params['lambda_actor'] = 0.95\n",
    "alg_params['lambda_critic'] = 0.95\n",
    "alg_params['continuous_task'] = 'false'\n",
    "alg_params['lr_rew_factor'] = 0.00\n",
    "alg_params['simplex_clipping'] = 'false'\n",
    "alg_params['simplex_clipping_epsilon'] = 0.001\n",
    "\n",
    "# TIME\n",
    "alg_params['n_steps'] = 5000000 # Number of training steps\n",
    "alg_params['traj_points'] = 500\n",
    "\n",
    "# EVALUATION\n",
    "alg_params['eval_steps'] = 10000 # Number of evaluation steps at the end of the training"
   ]
  },
  {
   "cell_type": "markdown",
   "metadata": {},
   "source": [
    "### General parameters"
   ]
  },
  {
   "cell_type": "code",
   "execution_count": 5,
   "metadata": {},
   "outputs": [],
   "source": [
    "# CRITIC LEARNING RATE\n",
    "alg_params['a0'] = 0.0075\n",
    "alg_params['ac'] = alg_params['n_steps']/300\n",
    "alg_params['a_expn'] = 0.8\n",
    "alg_params['a_burn'] = alg_params['n_steps']*0.66\n",
    "# List of multiplicative factors for the actor learnig rates for each player\n",
    "alg_params['a_lr_factor'] = np.ones(env_params['n_recipients']+1)\n",
    "alg_params['a_lr_factor'][0] = 1 #/env_params['n_recipients']\n",
    "\n",
    "\n",
    "\n",
    "# ACTOR LEARNING RATE\n",
    "alg_params['b0'] = 0.00000\n",
    "alg_params['bc'] = alg_params['n_steps'] / 300\n",
    "alg_params['b_expn'] = 0.8\n",
    "alg_params['b_burn'] = alg_params['n_steps']*0.66\n",
    "# List of multiplicative factors for the actor learnig rates for each player\n",
    "alg_params['b_lr_factor'] = np.ones(env_params['n_recipients']+1)\n",
    "alg_params['b_lr_factor'][0] = 1 #/env_params['n_recipients']"
   ]
  },
  {
   "cell_type": "code",
   "execution_count": 6,
   "metadata": {
    "scrolled": true
   },
   "outputs": [
    {
     "name": "stderr",
     "output_type": "stream",
     "text": [
      "<ipython-input-6-982a568f923c>:2: UserWarning: Data has no positive values, and therefore cannot be log-scaled.\n",
      "  plt.tight_layout()\n"
     ]
    },
    {
     "data": {
      "image/png": "[encoded data removed]",
      "text/plain": [
       "<Figure size 504x216 with 2 Axes>"
      ]
     },
     "metadata": {
      "needs_background": "light"
     },
     "output_type": "display_data"
    }
   ],
   "source": [
    "fig, (ax1, ax2) = ut.plot_lr(alg_params)\n",
    "plt.tight_layout()"
   ]
  },
  {
   "cell_type": "markdown",
   "metadata": {},
   "source": [
    "### Init condition of the learning"
   ]
  },
  {
   "cell_type": "code",
   "execution_count": 7,
   "metadata": {},
   "outputs": [],
   "source": [
    "# INITIAL CONDITIONS\n",
    "# Comment 'init_q_path' for a flat policy\n",
    "alg_params['init_values'] = 10\n",
    "#alg_params['init_values_rand'] = 150\n",
    "#alg_params['init_val_path'] = data_dir + \"/best_value.txt\"\n"
   ]
  },
  {
   "cell_type": "code",
   "execution_count": 8,
   "metadata": {},
   "outputs": [],
   "source": [
    "#alg_params['init_val_path'] = data_dir + '/init_val.txt' \n",
    "#forag_val = 25\n",
    "#vals = np.ones((env_params['n_recipients']+1, 2*(1+env_params['max_k'])))*rec_val\n",
    "#vals[0]*=forag_val/rec_val\n",
    "#np.savetxt(data_dir + '/init_val.txt', vals, delimiter='\\t')"
   ]
  },
  {
   "cell_type": "markdown",
   "metadata": {},
   "source": [
    "## Wtriting the parameters in data_dir"
   ]
  },
  {
   "cell_type": "code",
   "execution_count": 9,
   "metadata": {},
   "outputs": [],
   "source": [
    "ut.write_params(env_params, data_dir, \"param_env.txt\")\n",
    "ut.write_params(alg_params, data_dir, \"param_alg.txt\")"
   ]
  },
  {
   "cell_type": "markdown",
   "metadata": {},
   "source": [
    "## Set init policy"
   ]
  },
  {
   "cell_type": "code",
   "execution_count": 10,
   "metadata": {},
   "outputs": [],
   "source": [
    "\n",
    "\n",
    "def policy_1_above(k):\n",
    "    pol = []\n",
    "    for i in range((env_params['max_k']+1)*2):\n",
    "        if i<env_params['max_k']+1:\n",
    "            if i<=k:\n",
    "                pol.append([1,0])\n",
    "            else:\n",
    "                pol.append([0,1])\n",
    "        else:\n",
    "            pol.append([1])\n",
    "    return pol\n",
    "\n",
    "def policy_1_at(indexes):\n",
    "    pol = []\n",
    "    for i in range((env_params['max_k']+1)*2):\n",
    "        if i<env_params['max_k']+1:\n",
    "            if i not in indexes:\n",
    "                pol.append([1,0])\n",
    "            else:\n",
    "                pol.append([0,1])\n",
    "        else:\n",
    "            pol.append([1])\n",
    "    return pol\n",
    "\n",
    "def rand_policy():\n",
    "    pol = []\n",
    "    for i in range((env_params['max_k']+1)*2):\n",
    "        if i<env_params['max_k']+1:\n",
    "            pol.append([0.5,0.5])\n",
    "        else:\n",
    "            pol.append([1])\n",
    "    return pol\n",
    "\n",
    "def rand_policy_f():\n",
    "    pol = []\n",
    "    for i in range((env_params['max_k']+1)*4):\n",
    "        if i<env_params['max_k']+1:\n",
    "            pol.append([0.5,0.5])\n",
    "        else:\n",
    "            pol.append([1])\n",
    "    return pol\n",
    "\n",
    "def empirical_policy_f_int(L):\n",
    "    pol = []\n",
    "    for i in range((env_params['max_k']+1)*4):\n",
    "        if i<env_params['max_k']+1:\n",
    "            if i<L:\n",
    "                pol.append([1.0, 0.0])\n",
    "            else:\n",
    "                pol.append([0.0, 1.])\n",
    "        else:\n",
    "            pol.append([1])\n",
    "    return pol\n",
    "\n",
    "def empirical_policy_r_int(L, epsilon):\n",
    "    pol = []\n",
    "    for i in range((env_params['max_k']+1)*4):\n",
    "        if i<env_params['max_k']+1:\n",
    "            if i<L:\n",
    "                pol.append([1.0, 0.0])\n",
    "            else:\n",
    "                pol.append([0.0, 1.0])\n",
    "        elif ((i>=env_params['max_k']*1+1) and (i<env_params['max_k']*2+2)):        \n",
    "            pol.append([np.power(epsilon,1./L), 1-np.power(epsilon,1./L)])\n",
    "        else:\n",
    "            pol.append([1])\n",
    "    return pol\n",
    "\n",
    "def empirical_policy_r_noexch(L, epsilon):\n",
    "    pol = []\n",
    "    for i in range((env_params['max_k']+1)*4):\n",
    "        if i<env_params['max_k']+1:\n",
    "            pol.append([1.0, 0.0])\n",
    "        elif ((i>=env_params['max_k']*1+1) and (i<env_params['max_k']*2+2)):        \n",
    "            pol.append([np.power(epsilon,1./L), 1-np.power(epsilon,1./L)])\n",
    "        else:\n",
    "            pol.append([1])\n",
    "    return pol\n",
    "\n",
    "def random_policy_r_noexch():\n",
    "    pol = []\n",
    "    for i in range((env_params['max_k']+1)*4):\n",
    "        if i<env_params['max_k']+1:\n",
    "            pol.append([1.0, 0.0])\n",
    "        elif ((i>=env_params['max_k']*1+1) and (i<env_params['max_k']*2+2)):        \n",
    "            pol.append([0.5, 0.5])\n",
    "        else:\n",
    "            pol.append([1])\n",
    "    return pol\n",
    "\n",
    "def rand_policy_r():\n",
    "    pol = []\n",
    "    for i in range((env_params['max_k']+1)*4):\n",
    "        if i<env_params['max_k']*2+2:\n",
    "            pol.append([0.5,0.5])\n",
    "        else:\n",
    "            pol.append([1])\n",
    "    return pol\n",
    "\n",
    "def rand_policy_f_proposed():\n",
    "    pol = []\n",
    "    for i in range((env_params['max_k']+1)*4):\n",
    "        if i<env_params['max_k']+1:\n",
    "            prop = [0.5/(nrec) for i in range(nrec+1)]\n",
    "            prop[0] = 0.5\n",
    "            pol.append(prop)\n",
    "        else:\n",
    "            pol.append([1])\n",
    "    return pol\n",
    "\n",
    "\n",
    "def empirical_policy_f_proposed():\n",
    "    pol = []\n",
    "    for i in range((env_params['max_k']+1)*4):\n",
    "        if i<env_params['max_k']+1:\n",
    "            if i>=10:\n",
    "                prop = [1/(nrec) + (np.random.rand()-0.5)*0. for i in range(nrec+1)]\n",
    "                prop[0] = 0.0\n",
    "            else:\n",
    "                prop = [0 for i in range(nrec+1)]\n",
    "                prop[0] = 1.0\n",
    "            pol.append(prop)\n",
    "        else:\n",
    "            pol.append([1])\n",
    "    return pol\n",
    "\n",
    "\n",
    "def rand_policy_r_proposed(ID):\n",
    "    pol = []\n",
    "    for i in range((env_params['max_k']+1)*4):\n",
    "        if i<env_params['max_k']+1:\n",
    "            prop = [0.5/(nrec-1) for i in range(nrec)]\n",
    "            prop[ID] = 0.5\n",
    "            pol.append(prop)\n",
    "        elif ((i>=env_params['max_k']*1+1) and (i<env_params['max_k']*2+2)):\n",
    "            pol.append([0.5, 0.5])\n",
    "        else:\n",
    "            pol.append([1])\n",
    "    return pol\n",
    "\n",
    "def empirical_policy_r_proposed(ID, L, epsilon):\n",
    "    pol = []\n",
    "    ran = (np.random.rand()-0.5)*0.3\n",
    "    for i in range((env_params['max_k']+1)*4):\n",
    "        if i<env_params['max_k']+1:\n",
    "            if i>=10:\n",
    "                prop = [1/(nrec) + (np.random.rand()-0.5)*0. for i in range(nrec+1)]\n",
    "                prop[ID] = 0.0\n",
    "            else:\n",
    "                prop = [0 for i in range(nrec+1)]\n",
    "                prop[ID] = 1.0\n",
    "            pol.append(prop)\n",
    "        elif ((i>=env_params['max_k']*1+1) and (i<env_params['max_k']*2+2)):\n",
    "            pol.append([np.power(epsilon,1./L) + ran, 1-np.power(epsilon,1./L) - ran])\n",
    "        else:\n",
    "            pol.append([1])\n",
    "    return pol\n",
    "\n",
    "\n",
    "def empirical_policy_F(L):\n",
    "    pol = []\n",
    "    for i in range((env_params['max_k']+1)*2):\n",
    "        if i<env_params['max_k']+1:\n",
    "            if i<L:\n",
    "                pol.append([1.0, 0.0])\n",
    "            else:\n",
    "                pol.append([0.0, 1.0])\n",
    "        else:\n",
    "            pol.append([1])\n",
    "    return pol\n",
    "\n",
    "def empirical_policy_R(L, epsilon):\n",
    "    pol = []\n",
    "    for i in range((env_params['max_k']+1)*2):\n",
    "        if i<env_params['max_k']+1:\n",
    "            pol.append([np.power(epsilon,1./L), 1-np.power(epsilon,1./L)])\n",
    "        else:\n",
    "            pol.append([1])\n",
    "    return pol\n",
    "\n",
    "def greedy_policy_F():\n",
    "    pol = []\n",
    "    for i in range((env_params['max_k']+1)*2):\n",
    "        if i<env_params['max_k']+1:\n",
    "            pol.append([0.0, 1.0])\n",
    "        else:\n",
    "            pol.append([1])\n",
    "    return pol\n",
    "\n",
    "def greedy_policy_R():\n",
    "    pol = []\n",
    "    for i in range((env_params['max_k']+1)*2):\n",
    "        if i<env_params['max_k']+1:\n",
    "            pol.append([1.0, 0.0])\n",
    "        else:\n",
    "            pol.append([1])\n",
    "    return pol"
   ]
  },
  {
   "cell_type": "code",
   "execution_count": 11,
   "metadata": {},
   "outputs": [],
   "source": [
    "policies = []\n",
    "for_pol = []\n",
    "# Forager\n",
    "#policies.append(policy_1_above(8))\n",
    "\n",
    "L = 10\n",
    "epsilon = 0.001\n",
    "\n",
    "#policies.append(empirical_policy_F(L))\n",
    "#policies.append(empirical_policy_f_proposed())\n",
    "#policies.append(greedy_policy_F())\n",
    "policies.append(rand_policy_f())\n",
    "#policies.append(empirical_policy_f_int(14))\n",
    "\n",
    "# Recipients\n",
    "for p in range(env_params['n_recipients']):\n",
    "    #policies.append(policy_1_above(8))\n",
    "    #policies.append(policy_1_at([8]))\n",
    "    #policies.append(rand_policy_r())\n",
    "    #policies.append(empirical_policy_R(L, epsilon))\n",
    "    #policies.append(empirical_policy_r_proposed(p, 10, 0.01))\n",
    "    #policies.append(empirical_policy_r_noexch(L, epsilon))\n",
    "    policies.append(random_policy_r_noexch())\n",
    "    #policies.append(greedy_policy_R())\n"
   ]
  },
  {
   "cell_type": "markdown",
   "metadata": {},
   "source": [
    "### Writing external files"
   ]
  },
  {
   "cell_type": "code",
   "execution_count": 12,
   "metadata": {},
   "outputs": [],
   "source": [
    "for p in range(env_params['n_recipients']+1):\n",
    "    f = open(data_dir+'init_pol'+str(p)+'.txt', \"w\")\n",
    "    for l in policies[p]:\n",
    "        s = ''\n",
    "        for elem in l:\n",
    "            s+=str(elem)\n",
    "            s+='\\t'\n",
    "        f.write(s+'\\n')\n",
    "    f.close()"
   ]
  },
  {
   "cell_type": "code",
   "execution_count": 13,
   "metadata": {},
   "outputs": [],
   "source": [
    "alg_params['init_pol_dir'] = data_dir\n",
    "#alg_params['init_pol_dir'] = 'data/' + system_name + '/2p_long_gamma1/' \n",
    "ut.write_params(env_params, data_dir, \"param_env.txt\")\n",
    "ut.write_params(alg_params, data_dir, \"param_alg.txt\")"
   ]
  },
  {
   "cell_type": "code",
   "execution_count": null,
   "metadata": {},
   "outputs": [],
   "source": []
  }
 ],
 "metadata": {
  "kernelspec": {
   "display_name": "Python 3",
   "language": "python",
   "name": "python3"
  },
  "language_info": {
   "codemirror_mode": {
    "name": "ipython",
    "version": 3
   },
   "file_extension": ".py",
   "mimetype": "text/x-python",
   "name": "python",
   "nbconvert_exporter": "python",
   "pygments_lexer": "ipython3",
   "version": "3.8.5"
  }
 },
 "nbformat": 4,
 "nbformat_minor": 4
}
