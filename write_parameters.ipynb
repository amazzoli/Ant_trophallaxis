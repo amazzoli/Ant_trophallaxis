{
 "cells": [
  {
   "cell_type": "code",
   "execution_count": 138,
   "metadata": {},
   "outputs": [],
   "source": [
    "import numpy as np\n",
    "import matplotlib as mpl\n",
    "import matplotlib.pyplot as plt\n",
    "import utils as ut\n",
    "\n",
    "# Model of the ant colony\n",
    "system_name = 'ant_cons2_fast'\n",
    "# Name of the specific run with the current parmeters\n",
    "run_name = '2p_acet_3_ev3'\n",
    "\n",
    "data_dir = 'data/' + system_name + '/' + run_name + '/'"
   ]
  },
  {
   "cell_type": "markdown",
   "metadata": {},
   "source": [
    "## Environment"
   ]
  },
  {
   "cell_type": "markdown",
   "metadata": {},
   "source": [
    "### General parameters"
   ]
  },
  {
   "cell_type": "code",
   "execution_count": 139,
   "metadata": {},
   "outputs": [],
   "source": [
    "env_params = dict()\n",
    "\n",
    "# Size of the belly of each ant\n",
    "env_params['max_k'] = 10\n",
    "# Number of recipient in the colony\n",
    "env_params['n_recipients'] = 1\n",
    "# Probability of a succesfull gathering\n",
    "env_params['p_succ'] = 0.1\n",
    "\n",
    "if system_name == 'ant_cons' or system_name == 'ant_cons2' or system_name == 'ant_cons2_fast':\n",
    "    # Probability that the food of a recipient decreases\n",
    "    env_params['p_consume'] = 0.1"
   ]
  },
  {
   "cell_type": "markdown",
   "metadata": {},
   "source": [
    "### Initial condition"
   ]
  },
  {
   "cell_type": "code",
   "execution_count": 140,
   "metadata": {},
   "outputs": [],
   "source": [
    "# Number between 1-max_k for a deterministic initialization of the ant food\n",
    "# Number greater than max_k for a random initialization\n",
    "env_params['init_k'] = [env_params['max_k']+1 for _ in range(env_params['n_recipients']+1)]"
   ]
  },
  {
   "cell_type": "markdown",
   "metadata": {},
   "source": [
    "## Algorithm"
   ]
  },
  {
   "cell_type": "markdown",
   "metadata": {},
   "source": [
    "### Algorithm type"
   ]
  },
  {
   "cell_type": "code",
   "execution_count": 141,
   "metadata": {},
   "outputs": [],
   "source": [
    "alg_params = dict()\n",
    "alg_params['alg_type'] = 'ac_et'\n",
    "alg_params['gamma'] = 0.995\n",
    "alg_params['stop_by_discount'] = 'true'\n",
    "alg_params['lambda_actor'] = 0.95\n",
    "alg_params['lambda_critic'] = 0.95\n",
    "\n",
    "# TIME\n",
    "alg_params['n_steps'] = 2000000 # Number of training steps\n",
    "alg_params['traj_points'] = 200\n",
    "\n",
    "# EVALUATION\n",
    "alg_params['eval_steps'] = 1000 # Number of evaluation steps at the end of the training"
   ]
  },
  {
   "cell_type": "markdown",
   "metadata": {},
   "source": [
    "### General parameters"
   ]
  },
  {
   "cell_type": "code",
   "execution_count": 142,
   "metadata": {},
   "outputs": [],
   "source": [
    "# CRITIC LEARNING RATE\n",
    "alg_params['a0'] = 0.0005\n",
    "alg_params['ac'] = alg_params['n_steps'] / 500\n",
    "alg_params['a_expn'] = 0.8\n",
    "alg_params['a_burn'] = alg_params['n_steps'] / 3\n",
    "\n",
    "# ACTOR LEARNING RATE\n",
    "alg_params['b0'] = 0.000001\n",
    "alg_params['bc'] = alg_params['n_steps'] / 500\n",
    "alg_params['b_expn'] = 0.8\n",
    "alg_params['b_burn'] = alg_params['n_steps'] / 3"
   ]
  },
  {
   "cell_type": "code",
   "execution_count": 143,
   "metadata": {
    "scrolled": true
   },
   "outputs": [
    {
     "data": {
      "image/png": "[encoded data removed]",
      "text/plain": [
       "<Figure size 504x216 with 2 Axes>"
      ]
     },
     "metadata": {
      "needs_background": "light"
     },
     "output_type": "display_data"
    }
   ],
   "source": [
    "fig, (ax1, ax2) = ut.plot_lr(alg_params)\n",
    "plt.tight_layout()"
   ]
  },
  {
   "cell_type": "markdown",
   "metadata": {},
   "source": [
    "### Init condition of the learning"
   ]
  },
  {
   "cell_type": "code",
   "execution_count": 144,
   "metadata": {},
   "outputs": [],
   "source": [
    "# INITIAL CONDITIONS\n",
    "# Comment 'init_q_path' for a flat policy\n",
    "alg_params['init_values'] = 15\n",
    "#alg_params['init_values_rand'] = 150"
   ]
  },
  {
   "cell_type": "code",
   "execution_count": 145,
   "metadata": {},
   "outputs": [],
   "source": [
    "#alg_params['init_val_path'] = data_dir + '/init_val.txt' \n",
    "#forag_val = 25\n",
    "#rec_val = forag_val\n",
    "#vals = np.ones((env_params['n_recipients']+1, 2*(1+env_params['max_k'])))*rec_val\n",
    "#vals[0]*=forag_val/rec_val\n",
    "#np.savetxt(data_dir + '/init_val.txt', vals, delimiter='\\t')"
   ]
  },
  {
   "cell_type": "markdown",
   "metadata": {},
   "source": [
    "## Wtriting the parameters in data_dir"
   ]
  },
  {
   "cell_type": "code",
   "execution_count": 146,
   "metadata": {},
   "outputs": [],
   "source": [
    "ut.write_params(env_params, data_dir, \"param_env.txt\")\n",
    "ut.write_params(alg_params, data_dir, \"param_alg.txt\")"
   ]
  },
  {
   "cell_type": "markdown",
   "metadata": {},
   "source": [
    "## Set init policy"
   ]
  },
  {
   "cell_type": "code",
   "execution_count": 155,
   "metadata": {},
   "outputs": [],
   "source": [
    "def policy_1_above(k):\n",
    "    pol = []\n",
    "    for i in range((env_params['max_k']+1)*2):\n",
    "        if i<env_params['max_k']+1:\n",
    "            if i<=k:\n",
    "                pol.append([1,0])\n",
    "            else:\n",
    "                pol.append([0,1])\n",
    "        else:\n",
    "            pol.append([1])\n",
    "    return pol\n",
    "\n",
    "def policy_1_at(indexes):\n",
    "    pol = []\n",
    "    for i in range((env_params['max_k']+1)*2):\n",
    "        if i<env_params['max_k']+1:\n",
    "            if i not in indexes:\n",
    "                pol.append([1,0])\n",
    "            else:\n",
    "                pol.append([0,1])\n",
    "        else:\n",
    "            pol.append([1])\n",
    "    return pol\n",
    "\n",
    "def rand_policy():\n",
    "    pol = []\n",
    "    for i in range((env_params['max_k']+1)*2):\n",
    "        if i<env_params['max_k']+1:\n",
    "            pol.append([0.5,0.5])\n",
    "        else:\n",
    "            pol.append([1])\n",
    "    return pol"
   ]
  },
  {
   "cell_type": "code",
   "execution_count": 159,
   "metadata": {},
   "outputs": [],
   "source": [
    "policies = []\n",
    "for_pol = []\n",
    "# Forager\n",
    "policies.append(policy_1_above(8))\n",
    "#policies.append(rand_policy())\n",
    "\n",
    "# Recipients\n",
    "for p in range(env_params['n_recipients']):\n",
    "    #policies.append(policy_1_above(8))\n",
    "    policies.append(policy_1_at([8]))"
   ]
  },
  {
   "cell_type": "markdown",
   "metadata": {},
   "source": [
    "### Writing external files"
   ]
  },
  {
   "cell_type": "code",
   "execution_count": 160,
   "metadata": {},
   "outputs": [],
   "source": [
    "for p in range(env_params['n_recipients']+1):\n",
    "    f = open(data_dir+'init_pol'+str(p)+'.txt', \"w\")\n",
    "    for l in policies[p]:\n",
    "        s = ''\n",
    "        for elem in l:\n",
    "            s+=str(elem)\n",
    "            s+='\\t'\n",
    "        f.write(s+'\\n')\n",
    "    f.close()"
   ]
  },
  {
   "cell_type": "code",
   "execution_count": 161,
   "metadata": {},
   "outputs": [],
   "source": [
    "alg_params['init_pol_dir'] = data_dir\n",
    "#alg_params['init_pol_dir'] = 'data/' + system_name + '/2p_long_gamma1/' \n",
    "ut.write_params(env_params, data_dir, \"param_env.txt\")\n",
    "ut.write_params(alg_params, data_dir, \"param_alg.txt\")"
   ]
  },
  {
   "cell_type": "code",
   "execution_count": null,
   "metadata": {},
   "outputs": [],
   "source": []
  },
  {
   "cell_type": "code",
   "execution_count": null,
   "metadata": {},
   "outputs": [],
   "source": []
  }
 ],
 "metadata": {
  "kernelspec": {
   "display_name": "Python 3",
   "language": "python",
   "name": "python3"
  },
  "language_info": {
   "codemirror_mode": {
    "name": "ipython",
    "version": 3
   },
   "file_extension": ".py",
   "mimetype": "text/x-python",
   "name": "python",
   "nbconvert_exporter": "python",
   "pygments_lexer": "ipython3",
   "version": "3.8.5"
  }
 },
 "nbformat": 4,
 "nbformat_minor": 4
}
