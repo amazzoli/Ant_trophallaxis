{
 "cells": [
  {
   "cell_type": "code",
   "execution_count": 1,
   "metadata": {},
   "outputs": [],
   "source": [
    "import numpy as np\n",
    "import matplotlib as mpl\n",
    "import matplotlib.pyplot as plt\n",
    "import utils as ut\n",
    "import sys\n",
    "from matplotlib.colors import LinearSegmentedColormap\n",
    "\n",
    "system_name = 'ant_cons'\n",
    "run_name = '2p_gamma_pcons_full_b'\n",
    "data_dir = 'data/' + system_name + '_multi/' + run_name + '/'\n",
    "plot_dir = 'plots/' + system_name + '_multi/' + run_name + '/'"
   ]
  },
  {
   "cell_type": "markdown",
   "metadata": {},
   "source": [
    "### Importing the paramters"
   ]
  },
  {
   "cell_type": "code",
   "execution_count": 2,
   "metadata": {},
   "outputs": [
    {
     "name": "stdout",
     "output_type": "stream",
     "text": [
      "{'counts': 64.0, 'p_consume': array([0.        , 0.14285714, 0.28571429, 0.42857143, 0.57142857,\n",
      "       0.71428571, 0.85714286, 1.        ]), 'gamma': array([0.999     , 0.99772415, 0.99482053, 0.98821231, 0.97317304,\n",
      "       0.93894598, 0.86105045, 0.68377223]), 'multi': array(['p_consume', 'gamma'], dtype='<U9')}\n"
     ]
    }
   ],
   "source": [
    "par_info = ut.read_params(data_dir+'info.txt')\n",
    "par_env0 = ut.read_params(data_dir+'0_param_env.txt')\n",
    "print(par_info)"
   ]
  },
  {
   "cell_type": "markdown",
   "metadata": {},
   "source": [
    "### Importing the data"
   ]
  },
  {
   "cell_type": "code",
   "execution_count": 3,
   "metadata": {},
   "outputs": [],
   "source": [
    "def import_policies(data_dir):\n",
    "    forager_p = np.zeros((int(par_info['counts']), int(par_env0['max_k'])))\n",
    "    recipient_p = np.zeros((int(par_info['counts']), int(par_env0['max_k'])-1))\n",
    "    gammas, pcons = [], []\n",
    "    for i in range(int(par_info['counts'])):\n",
    "        l_forag = np.array(ut.read_traj(data_dir+str(i)+'_best_policy_0.txt', False)[1:int(par_env0['max_k'])+1])\n",
    "        l_rec = np.array(ut.read_traj(data_dir+str(i)+'_best_policy_1.txt', False)[1:int(par_env0['max_k'])+1])\n",
    "        penv = ut.read_params(data_dir+str(i)+'_param_env.txt')\n",
    "        palg = ut.read_params(data_dir+str(i)+'_param_alg.txt')\n",
    "        gammas.append(palg['gamma'])\n",
    "        pcons.append(penv['p_consume'])\n",
    "        forager_p[i] = np.array(l_forag)[:,0]\n",
    "        recipient_p[i] = np.array(l_rec)[:-1,0]\n",
    "        sys.stdout.write(\"\\rImported files: {}/{}\".format(i+1, int(par_info['counts'])))\n",
    "        sys.stdout.flush()\n",
    "    return forager_p, recipient_p, gammas, pcons\n",
    "\n",
    "def import_return(data_dir):\n",
    "    return_p = np.zeros(int(par_info['counts']))\n",
    "    for i in range(int(par_info['counts'])):\n",
    "        ret_traj, h = ut.read_traj(data_dir+str(i)+'_env_info_traj.txt')\n",
    "        return_p[i] = ret_traj[-1][3]\n",
    "        sys.stdout.write(\"\\rImported files: {}/{}\".format(i+1, int(par_info['counts'])))\n",
    "        sys.stdout.flush()\n",
    "    return return_p"
   ]
  },
  {
   "cell_type": "code",
   "execution_count": 4,
   "metadata": {},
   "outputs": [
    {
     "name": "stdout",
     "output_type": "stream",
     "text": [
      "Imported files: 64/64"
     ]
    }
   ],
   "source": [
    "forager_p, recipient_p, gammas, pcons = import_policies(data_dir)\n",
    "return_p = import_return(data_dir)"
   ]
  },
  {
   "cell_type": "markdown",
   "metadata": {},
   "source": [
    "### How many policy are deterministic?\n",
    "Just a visual representation"
   ]
  },
  {
   "cell_type": "code",
   "execution_count": 5,
   "metadata": {},
   "outputs": [
    {
     "data": {
      "image/png": "[encoded data removed]",
      "text/plain": [
       "<Figure size 576x324 with 4 Axes>"
      ]
     },
     "metadata": {
      "needs_background": "light"
     },
     "output_type": "display_data"
    }
   ],
   "source": [
    "import seaborn as sns\n",
    "\n",
    "fig, (ax1, ax2) = plt.subplots(1,2, figsize=(8,4.5))\n",
    "      \n",
    "sns.heatmap(forager_p, ax=ax1, vmin=0, vmax=1., xticklabels=np.arange(1,par_env0['max_k']+1,dtype=int))\n",
    "ax1.invert_yaxis()\n",
    "ax1.set_ylabel('Run', fontsize=14)\n",
    "ax1.set_xlabel('Forager\\'s load-1', fontsize=14)\n",
    "colorbar = ax1.collections[0].colorbar\n",
    "colorbar.set_label('Gathering ploicy', fontsize=14)\n",
    "\n",
    "sns.heatmap(recipient_p, ax=ax2, vmin=0, vmax=1., xticklabels=np.arange(1,par_env0['max_k'],dtype=int))\n",
    "ax2.invert_yaxis()\n",
    "ax2.set_ylabel('Run', fontsize=14)\n",
    "ax2.set_xlabel('Recipient\\'s load', fontsize=14)\n",
    "colorbar = ax2.collections[0].colorbar\n",
    "colorbar.set_label('Accetpt policy', fontsize=14)\n",
    "\n",
    "plt.tight_layout()\n",
    "plt.savefig(plot_dir + 'policies.png', dpi=200)"
   ]
  },
  {
   "cell_type": "markdown",
   "metadata": {},
   "source": [
    "## Parameter space"
   ]
  },
  {
   "cell_type": "code",
   "execution_count": 6,
   "metadata": {},
   "outputs": [],
   "source": [
    "def build_matrices(forager_p, recipient_p, gammas, pcons, return_p):\n",
    "    n_gath_flat = [np.sum(p>0.5) for p in forager_p]\n",
    "    n_acc_flat = [np.sum(p>0.5) for p in recipient_p]\n",
    "    gamma_set = np.sort(list(set(gammas)))\n",
    "    pcons_set = np.sort(list(set(pcons)))\n",
    "    n_gath_mat = np.zeros((len(pcons_set),len(gamma_set)))\n",
    "    n_acc_mat = np.zeros((len(pcons_set),len(gamma_set)))\n",
    "    ret_for_mat = np.zeros((len(pcons_set), len(gamma_set)))\n",
    "    #ep_len_mat = np.zeros((len(gamma_set), len(pcons_set)))\n",
    "\n",
    "    for k in range(len(n_gath_flat)):\n",
    "        g, pc = gammas[k], pcons[k]\n",
    "        j = np.where(gamma_set == gammas[k])[0][0]\n",
    "        i = np.where(pcons_set == pcons[k])[0][0]\n",
    "        n_gath_mat[i,j] = n_gath_flat[k]\n",
    "        n_acc_mat[i,j] = n_acc_flat[k]\n",
    "        ret_for_mat[i,j] = return_p[k]\n",
    "    \n",
    "    return n_gath_mat, n_acc_mat, ret_for_mat "
   ]
  },
  {
   "cell_type": "code",
   "execution_count": 7,
   "metadata": {},
   "outputs": [],
   "source": [
    "n_gath_mat, n_acc_mat, ret_for_mat = build_matrices(forager_p, recipient_p, gammas, pcons, return_p)"
   ]
  },
  {
   "cell_type": "code",
   "execution_count": 11,
   "metadata": {},
   "outputs": [
    {
     "ename": "ValueError",
     "evalue": "The truth value of an array with more than one element is ambiguous. Use a.any() or a.all()",
     "output_type": "error",
     "traceback": [
      "\u001b[1;31m---------------------------------------------------------------------------\u001b[0m",
      "\u001b[1;31mValueError\u001b[0m                                Traceback (most recent call last)",
      "\u001b[1;32m<ipython-input-11-462aade35690>\u001b[0m in \u001b[0;36m<module>\u001b[1;34m\u001b[0m\n\u001b[0;32m      1\u001b[0m \u001b[0mfig\u001b[0m\u001b[1;33m,\u001b[0m \u001b[1;33m(\u001b[0m\u001b[0max1\u001b[0m\u001b[1;33m,\u001b[0m \u001b[0max2\u001b[0m\u001b[1;33m)\u001b[0m \u001b[1;33m=\u001b[0m \u001b[0mplt\u001b[0m\u001b[1;33m.\u001b[0m\u001b[0msubplots\u001b[0m\u001b[1;33m(\u001b[0m\u001b[1;36m1\u001b[0m\u001b[1;33m,\u001b[0m\u001b[1;36m2\u001b[0m\u001b[1;33m,\u001b[0m\u001b[0mfigsize\u001b[0m\u001b[1;33m=\u001b[0m\u001b[1;33m(\u001b[0m\u001b[1;36m9\u001b[0m\u001b[1;33m,\u001b[0m\u001b[1;36m4\u001b[0m\u001b[1;33m)\u001b[0m\u001b[1;33m)\u001b[0m\u001b[1;33m\u001b[0m\u001b[1;33m\u001b[0m\u001b[0m\n\u001b[1;32m----> 2\u001b[1;33m \u001b[0mcmap\u001b[0m \u001b[1;33m=\u001b[0m \u001b[0msns\u001b[0m\u001b[1;33m.\u001b[0m\u001b[0mcolor_palette\u001b[0m\u001b[1;33m(\u001b[0m\u001b[1;34m\"viridis\"\u001b[0m\u001b[1;33m,\u001b[0m \u001b[0mmax\u001b[0m\u001b[1;33m(\u001b[0m\u001b[0mrecipient_p\u001b[0m\u001b[1;33m)\u001b[0m\u001b[1;33m+\u001b[0m\u001b[1;36m1\u001b[0m\u001b[1;33m)\u001b[0m\u001b[1;33m\u001b[0m\u001b[1;33m\u001b[0m\u001b[0m\n\u001b[0m\u001b[0;32m      3\u001b[0m \u001b[1;33m\u001b[0m\u001b[0m\n\u001b[0;32m      4\u001b[0m sns.heatmap(n_gath_mat, cmap=cmap,\n\u001b[0;32m      5\u001b[0m             \u001b[0mxticklabels\u001b[0m\u001b[1;33m=\u001b[0m\u001b[1;33m[\u001b[0m\u001b[1;34m\"%4.3f\"\u001b[0m \u001b[1;33m%\u001b[0m\u001b[0mg\u001b[0m \u001b[1;32mfor\u001b[0m \u001b[0mg\u001b[0m \u001b[1;32min\u001b[0m \u001b[0mgamma_set\u001b[0m\u001b[1;33m]\u001b[0m\u001b[1;33m,\u001b[0m\u001b[1;33m\u001b[0m\u001b[1;33m\u001b[0m\u001b[0m\n",
      "\u001b[1;31mValueError\u001b[0m: The truth value of an array with more than one element is ambiguous. Use a.any() or a.all()"
     ]
    },
    {
     "data": {
      "image/png": "[encoded data removed]",
      "text/plain": [
       "<Figure size 648x288 with 2 Axes>"
      ]
     },
     "metadata": {
      "needs_background": "light"
     },
     "output_type": "display_data"
    }
   ],
   "source": [
    "fig, (ax1, ax2) = plt.subplots(1,2,figsize=(9,4))\n",
    "cmap = sns.color_palette(\"viridis\", max(n_gath_flat)+1)\n",
    "\n",
    "sns.heatmap(n_gath_mat, cmap=cmap,\n",
    "            xticklabels=[\"%4.3f\" %g for g in gamma_set],\n",
    "            yticklabels=[\"%4.3f\" %p for p in pcons_set], ax=ax1)\n",
    "ax1.set_ylabel('Consumption prob', fontsize=14)\n",
    "ax1.set_xlabel('Gamma', fontsize=14)\n",
    "colorbar = ax1.collections[0].colorbar\n",
    "delta = max(n_gath_flat)/(max(n_gath_flat)+1)\n",
    "tics = [delta*i+ delta/2 for i in range(max(n_gath_flat)+1)]\n",
    "colorbar.set_ticks(tics)\n",
    "colorbar.set_ticklabels(np.arange(max(n_gath_flat)+1))\n",
    "colorbar.set_label('N.gathering states', fontsize=14)\n",
    "\n",
    "sns.heatmap(n_acc_mat, cmap=cmap,\n",
    "            xticklabels=[\"%4.3f\" %g for g in gamma_set],\n",
    "            yticklabels=[\"%4.3f\" %p for p in pcons_set], ax=ax2)\n",
    "ax2.set_ylabel('Consumption prob', fontsize=14)\n",
    "ax2.set_xlabel('Gamma', fontsize=14)\n",
    "colorbar = ax2.collections[0].colorbar\n",
    "delta = max(n_acc_flat)/(max(n_acc_flat)+1)\n",
    "tics = [delta*i+ delta/2 for i in range(max(n_acc_flat)+1)]\n",
    "colorbar.set_ticks(tics)\n",
    "colorbar.set_ticklabels(np.arange(max(n_acc_flat)+1))\n",
    "colorbar.set_label('N.accept states', fontsize=14)\n",
    "\n",
    "plt.tight_layout()\n",
    "#plt.savefig(plot_dir + 'param_space.png', dpi=200)"
   ]
  },
  {
   "cell_type": "code",
   "execution_count": 63,
   "metadata": {},
   "outputs": [
    {
     "data": {
      "image/png": "[encoded data removed]",
      "text/plain": [
       "<Figure size 360x288 with 2 Axes>"
      ]
     },
     "metadata": {
      "needs_background": "light"
     },
     "output_type": "display_data"
    }
   ],
   "source": [
    "fig, ax1 = plt.subplots(1,figsize=(5,4))\n",
    "cmap = sns.color_palette(\"viridis\", max(n_gath_flat)+1)\n",
    "\n",
    "sns.heatmap(log_ret_for_mat, cmap=cmap,\n",
    "            xticklabels=[\"%4.3f\" %g for g in gamma_set],\n",
    "            yticklabels=[\"%4.3f\" %p for p in pcons_set], ax=ax1)\n",
    "ax1.set_ylabel('Consumption prob', fontsize=14)\n",
    "ax1.set_xlabel('Gamma', fontsize=14)\n",
    "colorbar = ax1.collections[0].colorbar\n",
    "colorbar.set_label('Log average return', fontsize=14)\n",
    "\n",
    "\n",
    "plt.tight_layout()\n",
    "plt.savefig(plot_dir + 'param_space.png', dpi=200)"
   ]
  },
  {
   "cell_type": "markdown",
   "metadata": {},
   "source": [
    "## Comparing "
   ]
  },
  {
   "cell_type": "code",
   "execution_count": null,
   "metadata": {},
   "outputs": [],
   "source": [
    "run_to_compare = ['2p_gamma_pcons_full_a', '2p_gamma_pcons_full_b']"
   ]
  },
  {
   "cell_type": "code",
   "execution_count": null,
   "metadata": {},
   "outputs": [],
   "source": []
  }
 ],
 "metadata": {
  "kernelspec": {
   "display_name": "Python 3",
   "language": "python",
   "name": "python3"
  },
  "language_info": {
   "codemirror_mode": {
    "name": "ipython",
    "version": 3
   },
   "file_extension": ".py",
   "mimetype": "text/x-python",
   "name": "python",
   "nbconvert_exporter": "python",
   "pygments_lexer": "ipython3",
   "version": "3.8.5"
  }
 },
 "nbformat": 4,
 "nbformat_minor": 2
}
