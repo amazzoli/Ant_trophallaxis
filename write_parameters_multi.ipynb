{
 "cells": [
  {
   "cell_type": "code",
   "execution_count": 11,
   "metadata": {},
   "outputs": [],
   "source": [
    "import numpy as np\n",
    "import matplotlib as mpl\n",
    "import matplotlib.pyplot as plt\n",
    "import utils as ut\n",
    "\n",
    "# Model of the ant colony\n",
    "system_name = 'ant_cons'\n",
    "# Name of the specific run with the current parmeters\n",
    "run_name = '2p_gamma_pcons_low_c'\n",
    "\n",
    "data_dir = 'data/' + system_name + '_multi/' + run_name + '/'"
   ]
  },
  {
   "cell_type": "markdown",
   "metadata": {},
   "source": [
    "## Environment"
   ]
  },
  {
   "cell_type": "markdown",
   "metadata": {},
   "source": [
    "### General parameters"
   ]
  },
  {
   "cell_type": "code",
   "execution_count": 12,
   "metadata": {},
   "outputs": [],
   "source": [
    "env_params = dict()\n",
    "\n",
    "# Size of the belly of each ant\n",
    "env_params['max_k'] = 10\n",
    "# Number of recipient in the colony\n",
    "env_params['n_recipients'] = 1\n",
    "# Probability of a succesfull gathering\n",
    "env_params['p_succ'] = 0.9\n",
    "\n",
    "if system_name == 'ant_cons':\n",
    "    # Probability that the food of a recipient decreases\n",
    "    env_params['p_consume'] = np.linspace(0,1,10)"
   ]
  },
  {
   "cell_type": "code",
   "execution_count": 13,
   "metadata": {},
   "outputs": [],
   "source": [
    "# Which parameter fileds are multiple\n",
    "env_params['multi'] = ['p_consume']"
   ]
  },
  {
   "cell_type": "markdown",
   "metadata": {},
   "source": [
    "### Initial condition"
   ]
  },
  {
   "cell_type": "code",
   "execution_count": 14,
   "metadata": {},
   "outputs": [],
   "source": [
    "# Number between 1-max_k for a deterministic initialization of the ant food\n",
    "# Number greater than max_k for a random initialization\n",
    "env_params['init_k'] = [env_params['max_k']+1 for _ in range(env_params['n_recipients']+1)]"
   ]
  },
  {
   "cell_type": "markdown",
   "metadata": {},
   "source": [
    "## Algorithm"
   ]
  },
  {
   "cell_type": "markdown",
   "metadata": {},
   "source": [
    "### Algorithm type"
   ]
  },
  {
   "cell_type": "code",
   "execution_count": 15,
   "metadata": {},
   "outputs": [],
   "source": [
    "alg_params = dict()\n",
    "alg_params['alg_type'] = 'nac'\n",
    "alg_params['gamma'] = 1 - np.logspace(-3, -0.5 ,10)\n",
    "alg_params['stop_by_discount'] = 'true'\n",
    "\n",
    "# TIME\n",
    "alg_params['n_steps'] = 20000000 # Number of training steps\n",
    "alg_params['traj_points'] = 20\n",
    "alg_params['save_returns'] = 'false'\n",
    "alg_params['save_alg_traj'] = 'false'"
   ]
  },
  {
   "cell_type": "markdown",
   "metadata": {},
   "source": [
    "### General parameters"
   ]
  },
  {
   "cell_type": "code",
   "execution_count": 16,
   "metadata": {},
   "outputs": [],
   "source": [
    "# CRITIC LEARNING RATE\n",
    "alg_params['a0'] = 0.008\n",
    "alg_params['ac'] = alg_params['n_steps'] / 300\n",
    "alg_params['a_expn'] = 0.8\n",
    "alg_params['a_burn'] = alg_params['n_steps'] / 2\n",
    "\n",
    "# ACTOR LEARNING RATE\n",
    "alg_params['b0'] = 0.000004\n",
    "alg_params['bc'] = alg_params['n_steps'] / 300\n",
    "alg_params['b_expn'] = 0.8\n",
    "alg_params['b_burn'] = alg_params['n_steps']"
   ]
  },
  {
   "cell_type": "code",
   "execution_count": 17,
   "metadata": {
    "scrolled": true
   },
   "outputs": [
    {
     "data": {
      "image/png": "[encoded data removed]",
      "text/plain": [
       "<Figure size 504x216 with 2 Axes>"
      ]
     },
     "metadata": {
      "needs_background": "light"
     },
     "output_type": "display_data"
    }
   ],
   "source": [
    "fig, (ax1, ax2) = ut.plot_lr(alg_params)\n",
    "plt.tight_layout()"
   ]
  },
  {
   "cell_type": "markdown",
   "metadata": {},
   "source": [
    "### Init condition of the learning"
   ]
  },
  {
   "cell_type": "code",
   "execution_count": 19,
   "metadata": {},
   "outputs": [],
   "source": [
    "# INITIAL CONDITIONS\n",
    "# Comment 'init_q_path' for a flat policy\n",
    "#alg_params['init_q_path'] = '../data/' + system_name + '/sarsa_a/best_quality.txt' \n",
    "alg_params['init_values'] = 200\n",
    "#alg_params['init_values_rand'] = 150"
   ]
  },
  {
   "cell_type": "code",
   "execution_count": 20,
   "metadata": {},
   "outputs": [],
   "source": [
    "alg_params['multi'] = ['gamma']"
   ]
  },
  {
   "cell_type": "markdown",
   "metadata": {},
   "source": [
    "## Wtriting the parameters in data_dir"
   ]
  },
  {
   "cell_type": "code",
   "execution_count": 21,
   "metadata": {},
   "outputs": [],
   "source": [
    "from copy import copy\n",
    "\n",
    "# Fare in modo che il printi il parametro singolo e non il vettore\n",
    "count = 0;\n",
    "aux_env_params = copy(env_params)\n",
    "aux_alg_params = copy(alg_params)\n",
    "\n",
    "for par_e in env_params['multi']:\n",
    "    for val_e in env_params[par_e]:\n",
    "        aux_env_params[par_e] = val_e\n",
    "        for par_a in alg_params['multi']:\n",
    "            for val_a in alg_params[par_a]:\n",
    "                aux_alg_params[par_a] = val_a\n",
    "                ut.write_params(aux_env_params, data_dir, str(count)+\"_param_env.txt\")\n",
    "                ut.write_params(aux_alg_params, data_dir, str(count)+\"_param_alg.txt\")\n",
    "                count += 1     \n",
    "        \n",
    "info = dict()\n",
    "info['counts'] = count\n",
    "m = []\n",
    "for par_e in env_params['multi']:\n",
    "    m.append(par_e)\n",
    "    info[par_e] = env_params[par_e]\n",
    "for par_a in alg_params['multi']:\n",
    "    m.append(par_a)\n",
    "    info[par_a] = alg_params[par_a]\n",
    "info['multi'] = m\n",
    "    \n",
    "ut.write_params(info, data_dir, \"info.txt\")"
   ]
  },
  {
   "cell_type": "code",
   "execution_count": null,
   "metadata": {},
   "outputs": [],
   "source": []
  },
  {
   "cell_type": "code",
   "execution_count": null,
   "metadata": {},
   "outputs": [],
   "source": []
  },
  {
   "cell_type": "code",
   "execution_count": null,
   "metadata": {},
   "outputs": [],
   "source": []
  }
 ],
 "metadata": {
  "kernelspec": {
   "display_name": "Python 3",
   "language": "python",
   "name": "python3"
  },
  "language_info": {
   "codemirror_mode": {
    "name": "ipython",
    "version": 3
   },
   "file_extension": ".py",
   "mimetype": "text/x-python",
   "name": "python",
   "nbconvert_exporter": "python",
   "pygments_lexer": "ipython3",
   "version": "3.8.5"
  }
 },
 "nbformat": 4,
 "nbformat_minor": 4
}
