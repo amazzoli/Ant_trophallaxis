{
 "cells": [
  {
   "cell_type": "code",
   "execution_count": 1,
   "metadata": {},
   "outputs": [],
   "source": [
    "import numpy as np\n",
    "import matplotlib as mpl\n",
    "import matplotlib.pyplot as plt\n",
    "import utils as ut\n",
    "\n",
    "# Model of the ant colony\n",
    "system_name = 'ant_cons'\n",
    "# Name of the specific run with the current parmeters\n",
    "run_name = 'long_gamma'\n",
    "\n",
    "data_dir = 'data/' + system_name + '/' + run_name + '/'"
   ]
  },
  {
   "cell_type": "code",
   "execution_count": null,
   "metadata": {},
   "outputs": [],
   "source": [
    "env_params = dict()\n",
    "\n",
    "env_params['max_k'] = 10\n",
    "# Number of recipient in the colony\n",
    "env_params['n_recipients'] = 1\n",
    "# Probability of a succesfull gathering\n",
    "env_params['p_succ'] = 0.9\n",
    "\n",
    "if system_name == 'ant_cons':\n",
    "    # Probability that the food of a recipient decreases\n",
    "    env_params['p_consume'] = 0.3"
   ]
  }
 ],
 "metadata": {
  "kernelspec": {
   "display_name": "Python 3",
   "language": "python",
   "name": "python3"
  },
  "language_info": {
   "codemirror_mode": {
    "name": "ipython",
    "version": 3
   },
   "file_extension": ".py",
   "mimetype": "text/x-python",
   "name": "python",
   "nbconvert_exporter": "python",
   "pygments_lexer": "ipython3",
   "version": "3.6.6"
  }
 },
 "nbformat": 4,
 "nbformat_minor": 2
}
